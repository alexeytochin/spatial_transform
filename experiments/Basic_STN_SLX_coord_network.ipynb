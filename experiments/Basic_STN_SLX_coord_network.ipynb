{
 "cells": [
  {
   "cell_type": "code",
   "execution_count": 1,
   "metadata": {},
   "outputs": [
    {
     "data": {
      "text/html": [
       "<style>.container { width:98% !important; }</style>"
      ],
      "text/plain": [
       "<IPython.core.display.HTML object>"
      ]
     },
     "metadata": {},
     "output_type": "display_data"
    }
   ],
   "source": [
    "import sys\n",
    "import tensorflow as tf\n",
    "import scipy.io\n",
    "from scipy.io import loadmat\n",
    "import matplotlib.pyplot as plt\n",
    "from skimage.util import montage as montage2d\n",
    "from glob import glob\n",
    "import numpy as np\n",
    "\n",
    "from IPython.core.display import display, HTML\n",
    "display(HTML(\"<style>.container { width:98% !important; }</style>\"))"
   ]
  },
  {
   "cell_type": "code",
   "execution_count": 3,
   "metadata": {},
   "outputs": [
    {
     "ename": "ModuleNotFoundError",
     "evalue": "No module named 'stn_trail_task.data'",
     "output_type": "error",
     "traceback": [
      "\u001b[0;31m---------------------------------------------------------------------------\u001b[0m",
      "\u001b[0;31mModuleNotFoundError\u001b[0m                       Traceback (most recent call last)",
      "\u001b[0;32m<ipython-input-3-159b3b04b81a>\u001b[0m in \u001b[0;36m<module>\u001b[0;34m\u001b[0m\n\u001b[1;32m      3\u001b[0m \u001b[0;32mfrom\u001b[0m \u001b[0mstn_trail_task\u001b[0m\u001b[0;34m.\u001b[0m\u001b[0mconvolutional_localization\u001b[0m \u001b[0;32mimport\u001b[0m \u001b[0mCoordConvLocalizationLayer\u001b[0m\u001b[0;34m,\u001b[0m \u001b[0mConvolutionalLocalizationLayer\u001b[0m\u001b[0;34m\u001b[0m\u001b[0;34m\u001b[0m\u001b[0m\n\u001b[1;32m      4\u001b[0m \u001b[0;32mfrom\u001b[0m \u001b[0mstn_trail_task\u001b[0m\u001b[0;34m.\u001b[0m\u001b[0mcoords\u001b[0m \u001b[0;32mimport\u001b[0m \u001b[0mAddCoordFeatures2D\u001b[0m\u001b[0;34m\u001b[0m\u001b[0;34m\u001b[0m\u001b[0m\n\u001b[0;32m----> 5\u001b[0;31m \u001b[0;32mfrom\u001b[0m \u001b[0mstn_trail_task\u001b[0m\u001b[0;34m.\u001b[0m\u001b[0mdata\u001b[0m \u001b[0;32mimport\u001b[0m \u001b[0mget_aff_mnist_data\u001b[0m\u001b[0;34m\u001b[0m\u001b[0;34m\u001b[0m\u001b[0m\n\u001b[0m\u001b[1;32m      6\u001b[0m \u001b[0;32mfrom\u001b[0m \u001b[0mstn_trail_task\u001b[0m\u001b[0;34m.\u001b[0m\u001b[0mspatial_transform\u001b[0m \u001b[0;32mimport\u001b[0m \u001b[0mSimpleSpatialTransformBlock\u001b[0m\u001b[0;34m\u001b[0m\u001b[0;34m\u001b[0m\u001b[0m\n\u001b[1;32m      7\u001b[0m \u001b[0;32mfrom\u001b[0m \u001b[0mstn_trail_task\u001b[0m\u001b[0;34m.\u001b[0m\u001b[0mvisualization\u001b[0m \u001b[0;32mimport\u001b[0m \u001b[0mshow_train_progress\u001b[0m\u001b[0;34m\u001b[0m\u001b[0;34m\u001b[0m\u001b[0m\n",
      "\u001b[0;31mModuleNotFoundError\u001b[0m: No module named 'stn_trail_task.data'"
     ]
    }
   ],
   "source": [
    "sys.path.append(\"..\")\n",
    "from spatial_transform.aff_mnist_data import IMAGE_SIZE, IMAGE_SHAPE, IMAGE_NUM_CHANNELS, get_aff_mnist_data\n",
    "from spatial_transform.spatial_transforms import AffineTransform, QuadraticTransform\n",
    "from spatial_transform.st_blocks import SimpleSpatialTransformBlock\n",
    "from spatial_transform.localization import StandardConvolutionalLocalizationLayer, CoordConvLocalizationLayer, LargeLocalizationLayer\n",
    "from spatial_transform.interpolation import BilinearInterpolator\n",
    "from spatial_transform.layers import RepeatWithSharedWeights\n",
    "from spatial_transform.visualization import show_train_progress"
   ]
  },
  {
   "cell_type": "code",
   "execution_count": 4,
   "metadata": {},
   "outputs": [],
   "source": [
    "train_img_data, train_img_label, validation_img_data, validation_img_label, test_img_data, test_img_label = get_aff_mnist_data()"
   ]
  },
  {
   "cell_type": "code",
   "execution_count": null,
   "metadata": {},
   "outputs": [],
   "source": [
    "Image(\"../images/stn_c0.png\")"
   ]
  },
  {
   "cell_type": "code",
   "execution_count": null,
   "metadata": {},
   "outputs": [],
   "source": [
    "image = tf.keras.layers.Input(shape=IMAGE_SHAPE + (IMAGE_NUM_CHANNELS,))\n",
    "size_after_transform = 28\n",
    "\n",
    "# first_spatial_transform = AffineTransform()\n",
    "# first_st_block = SimpleSpatialTransformBlock(\n",
    "#     localization_layer = CoordConvLocalizationLayer(\n",
    "#         spatial_transform_params_cls = first_spatial_transform.param_type,\n",
    "#         init_scale = size_after_transform / IMAGE_SIZE,\n",
    "#     ),\n",
    "#     spatial_transform = first_spatial_transform,\n",
    "#     interpolator = BilinearInterpolator(),\n",
    "#     shape_out = (size_after_transform, size_after_transform)\n",
    "# )\n",
    "\n",
    "spatial_transform = QuadraticTransform()\n",
    "st_block = SimpleSpatialTransformBlock(\n",
    "    localization_layer = LargeLocalizationLayer(\n",
    "        spatial_transform_params_cls = spatial_transform.param_type,\n",
    "        init_scale = 1,\n",
    "    ),\n",
    "    spatial_transform = spatial_transform,\n",
    "    interpolator = BilinearInterpolator(),\n",
    "    shape_out = (size_after_transform, size_after_transform)\n",
    ")\n",
    "stn_slx_chain = RepeatWithSharedWeights(layer=st_block, num_repetitions=3)\n",
    "\n",
    "\n",
    "\n",
    "\n",
    "input_shape = (40, 40, 1)\n",
    "image = tf.keras.layers.Input(shape=input_shape)\n",
    "size_after_transform = 28\n",
    "\n",
    "\n",
    "\n",
    "\n",
    "interpolation_layer = BilinearInterpolation(height_out=size_after_transform, width_out=size_after_transform)\n",
    "stn_slx_block = SimpleSpatialTransformBlock(\n",
    "    localization_layer = CoordConvLocalizationLayer(num_spatial_transform_params=interpolation_layer.num_spatial_transform_params),\n",
    "    interpolation_layer = interpolation_layer\n",
    ")\n",
    "stn_slx_chain = RepeatWithSharedWeights(layer=stn_slx_block, num_repetitions=3)\n",
    "\n",
    "x = tf.image.resize(image, size=size_after_transform)\n",
    "x = stn_slx_chain(x)\n",
    "x = tf.keras.layers.Conv2D(32, [5, 5], activation='relu', padding=\"valid\")(x)\n",
    "x = tf.keras.layers.MaxPool2D()(x)\n",
    "x = tf.keras.layers.Conv2D(32, [5, 5], activation='relu', padding=\"valid\")(x)\n",
    "x = tf.keras.layers.MaxPool2D()(x)\n",
    "x = tf.keras.layers.Flatten()(x)\n",
    "x = tf.keras.layers.Dense(40, activation='relu')(x)\n",
    "x = tf.keras.layers.Dense(32, activation='relu')(x)\n",
    "x = tf.keras.layers.Dense(10, activation=None)(x)\n",
    "\n",
    "model = tf.keras.models.Model(inputs=image, outputs=x)\n",
    "model.summary()"
   ]
  },
  {
   "cell_type": "code",
   "execution_count": 5,
   "metadata": {},
   "outputs": [],
   "source": [
    "model.compile(\n",
    "    optimizer = tf.keras.optimizers.Adam(learning_rate=1e-4),\n",
    "    loss = tf.keras.losses.SparseCategoricalCrossentropy(from_logits=True),\n",
    "    metrics = ['accuracy']\n",
    ")"
   ]
  },
  {
   "cell_type": "code",
   "execution_count": 6,
   "metadata": {},
   "outputs": [
    {
     "name": "stdout",
     "output_type": "stream",
     "text": [
      "Epoch 1/6\n",
      "12500/12500 [==============================] - 294s 23ms/step - loss: 0.9929 - accuracy: 0.6912 - val_loss: 0.0601 - val_accuracy: 0.9813\n",
      "Epoch 2/6\n",
      "12500/12500 [==============================] - 297s 24ms/step - loss: 0.0513 - accuracy: 0.9841 - val_loss: 0.0400 - val_accuracy: 0.9873\n",
      "Epoch 3/6\n",
      "12500/12500 [==============================] - 290s 23ms/step - loss: 0.0332 - accuracy: 0.9896 - val_loss: 0.0363 - val_accuracy: 0.9880\n",
      "Epoch 4/6\n",
      "12500/12500 [==============================] - 278s 22ms/step - loss: 0.0248 - accuracy: 0.9922 - val_loss: 0.0268 - val_accuracy: 0.9915\n",
      "Epoch 5/6\n",
      "12500/12500 [==============================] - 280s 22ms/step - loss: 0.0202 - accuracy: 0.9936 - val_loss: 0.0259 - val_accuracy: 0.9918\n",
      "Epoch 6/6\n",
      "12500/12500 [==============================] - 271s 22ms/step - loss: 0.0173 - accuracy: 0.9944 - val_loss: 0.0279 - val_accuracy: 0.9914\n"
     ]
    }
   ],
   "source": [
    "history = model.fit(\n",
    "    x = train_img_data, \n",
    "    y = train_img_label, \n",
    "    batch_size = 128,\n",
    "    epochs = 6,\n",
    "    validation_data = (test_img_data,  test_img_label),\n",
    "    validation_batch_size = 1024,\n",
    ")"
   ]
  },
  {
   "cell_type": "code",
   "execution_count": 7,
   "metadata": {},
   "outputs": [
    {
     "data": {
      "image/png": "[encoded data removed]",
      "text/plain": [
       "<Figure size 432x288 with 1 Axes>"
      ]
     },
     "metadata": {
      "needs_background": "light"
     },
     "output_type": "display_data"
    },
    {
     "data": {
      "image/png": "[encoded data removed]",
      "text/plain": [
       "<Figure size 432x288 with 1 Axes>"
      ]
     },
     "metadata": {
      "needs_background": "light"
     },
     "output_type": "display_data"
    }
   ],
   "source": [
    "show_train_progress(history)"
   ]
  },
  {
   "cell_type": "code",
   "execution_count": null,
   "metadata": {},
   "outputs": [],
   "source": []
  },
  {
   "cell_type": "code",
   "execution_count": null,
   "metadata": {},
   "outputs": [],
   "source": []
  },
  {
   "cell_type": "code",
   "execution_count": null,
   "metadata": {},
   "outputs": [],
   "source": []
  },
  {
   "cell_type": "code",
   "execution_count": null,
   "metadata": {},
   "outputs": [],
   "source": []
  },
  {
   "cell_type": "code",
   "execution_count": null,
   "metadata": {},
   "outputs": [],
   "source": []
  }
 ],
 "metadata": {
  "kernelspec": {
   "display_name": "tf2.4",
   "language": "python",
   "name": "tf2.4"
  },
  "language_info": {
   "codemirror_mode": {
    "name": "ipython",
    "version": 3
   },
   "file_extension": ".py",
   "mimetype": "text/x-python",
   "name": "python",
   "nbconvert_exporter": "python",
   "pygments_lexer": "ipython3",
   "version": "3.7.9"
  }
 },
 "nbformat": 4,
 "nbformat_minor": 4
}

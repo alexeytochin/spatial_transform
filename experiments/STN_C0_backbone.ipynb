{
 "cells": [
  {
   "cell_type": "code",
   "execution_count": 1,
   "metadata": {},
   "outputs": [
    {
     "data": {
      "text/html": [
       "<style>.container { width:98% !important; }</style>"
      ],
      "text/plain": [
       "<IPython.core.display.HTML object>"
      ]
     },
     "metadata": {},
     "output_type": "display_data"
    }
   ],
   "source": [
    "import sys\n",
    "import tensorflow as tf\n",
    "import scipy.io\n",
    "from scipy.io import loadmat\n",
    "import matplotlib.pyplot as plt\n",
    "from skimage.util import montage as montage2d\n",
    "from glob import glob\n",
    "import numpy as np\n",
    "\n",
    "from IPython.core.display import display, HTML\n",
    "display(HTML(\"<style>.container { width:98% !important; }</style>\"))"
   ]
  },
  {
   "cell_type": "code",
   "execution_count": 2,
   "metadata": {},
   "outputs": [],
   "source": [
    "sys.path.append(\"..\")\n",
    "from config import PATH_TO_AFF_MNIST_DATA\n",
    "from spatial_transform.aff_mnist_data import IMAGE_SIZE, IMAGE_SHAPE, IMAGE_NUM_CHANNELS, get_aff_mnist_data\n",
    "from spatial_transform.spatial_transforms import AffineTransform\n",
    "from spatial_transform.st_blocks import SimpleSpatialTransformBlock\n",
    "from spatial_transform.localization import StandardConvolutionalLocalizationLayer\n",
    "from spatial_transform.interpolation import BilinearInterpolator\n",
    "from spatial_transform.visualization import show_train_progress"
   ]
  },
  {
   "cell_type": "code",
   "execution_count": 3,
   "metadata": {},
   "outputs": [],
   "source": [
    "train_img_data, train_img_label, validation_img_data, validation_img_label, test_img_data, test_img_label = get_aff_mnist_data()"
   ]
  },
  {
   "cell_type": "code",
   "execution_count": 4,
   "metadata": {},
   "outputs": [
    {
     "name": "stdout",
     "output_type": "stream",
     "text": [
      "Model: \"model\"\n",
      "_________________________________________________________________\n",
      "Layer (type)                 Output Shape              Param #   \n",
      "=================================================================\n",
      "input_1 (InputLayer)         [(None, 40, 40, 1)]       0         \n",
      "_________________________________________________________________\n",
      "simple_spatial_transform_blo (None, 40, 40, 1)         19494     \n",
      "_________________________________________________________________\n",
      "conv2d_2 (Conv2D)            (None, 34, 34, 32)        1600      \n",
      "_________________________________________________________________\n",
      "max_pooling2d_2 (MaxPooling2 (None, 17, 17, 32)        0         \n",
      "_________________________________________________________________\n",
      "conv2d_3 (Conv2D)            (None, 13, 13, 32)        25632     \n",
      "_________________________________________________________________\n",
      "max_pooling2d_3 (MaxPooling2 (None, 6, 6, 32)          0         \n",
      "_________________________________________________________________\n",
      "flatten_1 (Flatten)          (None, 1152)              0         \n",
      "_________________________________________________________________\n",
      "dense_2 (Dense)              (None, 40)                46120     \n",
      "_________________________________________________________________\n",
      "dense_3 (Dense)              (None, 32)                1312      \n",
      "_________________________________________________________________\n",
      "dense_4 (Dense)              (None, 10)                330       \n",
      "=================================================================\n",
      "Total params: 94,488\n",
      "Trainable params: 94,488\n",
      "Non-trainable params: 0\n",
      "_________________________________________________________________\n"
     ]
    }
   ],
   "source": [
    "image = tf.keras.layers.Input(shape=IMAGE_SHAPE + (IMAGE_NUM_CHANNELS,))\n",
    "size_after_transform = 40\n",
    "\n",
    "spatial_transform = AffineTransform()\n",
    "st_block = SimpleSpatialTransformBlock(\n",
    "    localization_layer = StandardConvolutionalLocalizationLayer(\n",
    "        spatial_transform_params_cls = spatial_transform.param_type,\n",
    "        init_scale = size_after_transform / IMAGE_SIZE,\n",
    "    ),\n",
    "    spatial_transform = spatial_transform,\n",
    "    interpolator = BilinearInterpolator(),\n",
    "    shape_out = (size_after_transform, size_after_transform)\n",
    ")\n",
    "\n",
    "x = image\n",
    "x = st_block(x)\n",
    "x = tf.keras.layers.Conv2D(32, [7, 7], activation='relu')(x)\n",
    "x = tf.keras.layers.MaxPool2D()(x)\n",
    "x = tf.keras.layers.Conv2D(32, [5, 5], activation='relu')(x)\n",
    "x = tf.keras.layers.MaxPool2D()(x)\n",
    "x = tf.keras.layers.Flatten()(x)\n",
    "x = tf.keras.layers.Dense(40, activation='relu')(x)\n",
    "x = tf.keras.layers.Dense(32, activation='relu')(x)\n",
    "x = tf.keras.layers.Dense(10, activation=None)(x)\n",
    "\n",
    "model = tf.keras.models.Model(inputs=image, outputs=x)\n",
    "model.summary()"
   ]
  },
  {
   "cell_type": "code",
   "execution_count": 5,
   "metadata": {},
   "outputs": [],
   "source": [
    "model.compile(\n",
    "    optimizer = tf.keras.optimizers.Adam(learning_rate=1e-4),\n",
    "    loss = tf.keras.losses.SparseCategoricalCrossentropy(from_logits=True),\n",
    "    metrics = ['accuracy']\n",
    ")"
   ]
  },
  {
   "cell_type": "code",
   "execution_count": 6,
   "metadata": {
    "scrolled": false
   },
   "outputs": [
    {
     "name": "stdout",
     "output_type": "stream",
     "text": [
      "Epoch 1/10\n",
      "12500/12500 [==============================] - 325s 25ms/step - loss: 1.0615 - accuracy: 0.6374 - val_loss: 0.0605 - val_accuracy: 0.9807\n",
      "Epoch 2/10\n",
      "12500/12500 [==============================] - 281s 22ms/step - loss: 0.0560 - accuracy: 0.9825 - val_loss: 0.0399 - val_accuracy: 0.9872\n",
      "Epoch 3/10\n",
      "12500/12500 [==============================] - 314s 25ms/step - loss: 0.0380 - accuracy: 0.9880 - val_loss: 0.0368 - val_accuracy: 0.9885\n",
      "Epoch 4/10\n",
      "12500/12500 [==============================] - 289s 23ms/step - loss: 0.0303 - accuracy: 0.9904 - val_loss: 0.0318 - val_accuracy: 0.9899\n",
      "Epoch 5/10\n",
      "12500/12500 [==============================] - 276s 22ms/step - loss: 0.0250 - accuracy: 0.9921 - val_loss: 0.0264 - val_accuracy: 0.9915\n",
      "Epoch 6/10\n",
      "12500/12500 [==============================] - 271s 22ms/step - loss: 0.0216 - accuracy: 0.9932 - val_loss: 0.0282 - val_accuracy: 0.9910\n",
      "Epoch 7/10\n",
      "12500/12500 [==============================] - 271s 22ms/step - loss: 0.0190 - accuracy: 0.9939 - val_loss: 0.0279 - val_accuracy: 0.9914\n",
      "Epoch 8/10\n",
      "12500/12500 [==============================] - 273s 22ms/step - loss: 0.0170 - accuracy: 0.9945 - val_loss: 0.0272 - val_accuracy: 0.9917\n",
      "Epoch 9/10\n",
      "12500/12500 [==============================] - 271s 22ms/step - loss: 0.0160 - accuracy: 0.9948 - val_loss: 0.0246 - val_accuracy: 0.9919\n",
      "Epoch 10/10\n",
      "12500/12500 [==============================] - 263s 21ms/step - loss: 0.0153 - accuracy: 0.9951 - val_loss: 0.0239 - val_accuracy: 0.9926\n"
     ]
    }
   ],
   "source": [
    "history = model.fit(\n",
    "    x = train_img_data, \n",
    "    y = train_img_label, \n",
    "    batch_size = 128,\n",
    "    epochs = 10,\n",
    "    validation_data = (test_img_data,  test_img_label),\n",
    "    validation_batch_size = 1024,\n",
    ")"
   ]
  },
  {
   "cell_type": "code",
   "execution_count": 8,
   "metadata": {},
   "outputs": [
    {
     "data": {
      "image/png": "[encoded data removed]",
      "text/plain": [
       "<Figure size 432x288 with 1 Axes>"
      ]
     },
     "metadata": {
      "needs_background": "light"
     },
     "output_type": "display_data"
    },
    {
     "data": {
      "image/png": "[encoded data removed]",
      "text/plain": [
       "<Figure size 432x288 with 1 Axes>"
      ]
     },
     "metadata": {
      "needs_background": "light"
     },
     "output_type": "display_data"
    }
   ],
   "source": [
    "show_train_progress(history)"
   ]
  },
  {
   "cell_type": "code",
   "execution_count": null,
   "metadata": {},
   "outputs": [],
   "source": []
  },
  {
   "cell_type": "code",
   "execution_count": 9,
   "metadata": {},
   "outputs": [],
   "source": [
    "# model.save(filepath=\"experiments/STN_C0_backbone.h5\")"
   ]
  },
  {
   "cell_type": "code",
   "execution_count": null,
   "metadata": {},
   "outputs": [],
   "source": []
  }
 ],
 "metadata": {
  "kernelspec": {
   "display_name": "tf2.4",
   "language": "python",
   "name": "tf2.4"
  },
  "language_info": {
   "codemirror_mode": {
    "name": "ipython",
    "version": 3
   },
   "file_extension": ".py",
   "mimetype": "text/x-python",
   "name": "python",
   "nbconvert_exporter": "python",
   "pygments_lexer": "ipython3",
   "version": "3.7.9"
  }
 },
 "nbformat": 4,
 "nbformat_minor": 4
}

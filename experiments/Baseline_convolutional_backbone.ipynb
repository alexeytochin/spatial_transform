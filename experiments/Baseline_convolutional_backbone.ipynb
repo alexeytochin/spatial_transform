{
 "cells": [
  {
   "cell_type": "code",
   "execution_count": 1,
   "metadata": {},
   "outputs": [
    {
     "data": {
      "text/html": [
       "<style>.container { width:98% !important; }</style>"
      ],
      "text/plain": [
       "<IPython.core.display.HTML object>"
      ]
     },
     "metadata": {},
     "output_type": "display_data"
    }
   ],
   "source": [
    "import sys\n",
    "import tensorflow as tf\n",
    "import scipy.io\n",
    "from scipy.io import loadmat\n",
    "import matplotlib.pyplot as plt\n",
    "from skimage.util import montage as montage2d\n",
    "from glob import glob\n",
    "import numpy as np\n",
    "\n",
    "from IPython.core.display import display, HTML\n",
    "display(HTML(\"<style>.container { width:98% !important; }</style>\"))"
   ]
  },
  {
   "cell_type": "code",
   "execution_count": 2,
   "metadata": {},
   "outputs": [],
   "source": [
    "sys.path.append(\"..\")\n",
    "from spatial_transform.aff_mnist_data import IMAGE_SIZE, IMAGE_SHAPE, IMAGE_NUM_CHANNELS, get_aff_mnist_data\n",
    "from spatial_transform.spatial_transforms import AffineTransform, QuadraticTransform\n",
    "from spatial_transform.st_blocks import SimpleSpatialTransformBlock\n",
    "from spatial_transform.localization import StandardConvolutionalLocalizationLayer, CoordConvLocalizationLayer, LargeLocalizationLayer\n",
    "from spatial_transform.interpolation import BilinearInterpolator\n",
    "from spatial_transform.layers import RepeatWithSharedWeights\n",
    "from spatial_transform.visualization import show_train_progress"
   ]
  },
  {
   "cell_type": "code",
   "execution_count": 3,
   "metadata": {},
   "outputs": [],
   "source": [
    "train_img_data, train_img_label, validation_img_data, validation_img_label, test_img_data, test_img_label = get_aff_mnist_data()"
   ]
  },
  {
   "cell_type": "code",
   "execution_count": 4,
   "metadata": {},
   "outputs": [
    {
     "name": "stdout",
     "output_type": "stream",
     "text": [
      "Model: \"model\"\n",
      "_________________________________________________________________\n",
      "Layer (type)                 Output Shape              Param #   \n",
      "=================================================================\n",
      "input_1 (InputLayer)         [(None, 40, 40, 1)]       0         \n",
      "_________________________________________________________________\n",
      "conv2d (Conv2D)              (None, 34, 34, 32)        1600      \n",
      "_________________________________________________________________\n",
      "max_pooling2d (MaxPooling2D) (None, 17, 17, 32)        0         \n",
      "_________________________________________________________________\n",
      "conv2d_1 (Conv2D)            (None, 13, 13, 32)        25632     \n",
      "_________________________________________________________________\n",
      "max_pooling2d_1 (MaxPooling2 (None, 6, 6, 32)          0         \n",
      "_________________________________________________________________\n",
      "flatten (Flatten)            (None, 1152)              0         \n",
      "_________________________________________________________________\n",
      "dense (Dense)                (None, 60)                69180     \n",
      "_________________________________________________________________\n",
      "dense_1 (Dense)              (None, 32)                1952      \n",
      "_________________________________________________________________\n",
      "dense_2 (Dense)              (None, 10)                330       \n",
      "=================================================================\n",
      "Total params: 98,694\n",
      "Trainable params: 98,694\n",
      "Non-trainable params: 0\n",
      "_________________________________________________________________\n"
     ]
    }
   ],
   "source": [
    "image = tf.keras.layers.Input(shape=IMAGE_SHAPE + (IMAGE_NUM_CHANNELS,))\n",
    "\n",
    "x = image\n",
    "x = tf.keras.layers.Conv2D(32, [7, 7], activation='relu')(x)\n",
    "x = tf.keras.layers.MaxPool2D()(x)\n",
    "x = tf.keras.layers.Conv2D(32, [5, 5], activation='relu')(x)\n",
    "x = tf.keras.layers.MaxPool2D()(x)\n",
    "x = tf.keras.layers.Flatten()(x)\n",
    "x = tf.keras.layers.Dense(60, activation='relu')(x)\n",
    "x = tf.keras.layers.Dense(32, activation='relu')(x)\n",
    "x = tf.keras.layers.Dense(10, activation=None)(x)\n",
    "\n",
    "model = tf.keras.models.Model(inputs=image, outputs=x)\n",
    "model.summary()"
   ]
  },
  {
   "cell_type": "code",
   "execution_count": 5,
   "metadata": {},
   "outputs": [],
   "source": [
    "model.compile(\n",
    "    optimizer = tf.keras.optimizers.Adam(learning_rate=1e-3),\n",
    "    loss = tf.keras.losses.SparseCategoricalCrossentropy(from_logits=True),\n",
    "    metrics = ['accuracy']\n",
    ")"
   ]
  },
  {
   "cell_type": "code",
   "execution_count": 6,
   "metadata": {},
   "outputs": [
    {
     "name": "stdout",
     "output_type": "stream",
     "text": [
      "Epoch 1/6\n",
      "12500/12500 [==============================] - 99s 8ms/step - loss: 0.5438 - accuracy: 0.8147 - val_loss: 0.0842 - val_accuracy: 0.9743\n",
      "Epoch 2/6\n",
      "12500/12500 [==============================] - 95s 8ms/step - loss: 0.0765 - accuracy: 0.9771 - val_loss: 0.0667 - val_accuracy: 0.9800\n",
      "Epoch 3/6\n",
      "12500/12500 [==============================] - 95s 8ms/step - loss: 0.0605 - accuracy: 0.9821 - val_loss: 0.0708 - val_accuracy: 0.9798\n",
      "Epoch 4/6\n",
      "12500/12500 [==============================] - 95s 8ms/step - loss: 0.0526 - accuracy: 0.9846 - val_loss: 0.0613 - val_accuracy: 0.9824\n",
      "Epoch 5/6\n",
      "12500/12500 [==============================] - 95s 8ms/step - loss: 0.0489 - accuracy: 0.9857 - val_loss: 0.0562 - val_accuracy: 0.9842\n",
      "Epoch 6/6\n",
      "12500/12500 [==============================] - 87s 7ms/step - loss: 0.0452 - accuracy: 0.9870 - val_loss: 0.0674 - val_accuracy: 0.9817\n"
     ]
    }
   ],
   "source": [
    "history = model.fit(\n",
    "    x = train_img_data, \n",
    "    y = train_img_label, \n",
    "    batch_size = 128,\n",
    "    epochs = 6,\n",
    "    validation_data = (test_img_data,  test_img_label),\n",
    "    validation_batch_size = 1024,\n",
    ")"
   ]
  },
  {
   "cell_type": "code",
   "execution_count": 7,
   "metadata": {},
   "outputs": [
    {
     "data": {
      "image/png": "[encoded data removed]",
      "text/plain": [
       "<Figure size 432x288 with 1 Axes>"
      ]
     },
     "metadata": {
      "needs_background": "light"
     },
     "output_type": "display_data"
    },
    {
     "data": {
      "image/png": "[encoded data removed]",
      "text/plain": [
       "<Figure size 432x288 with 1 Axes>"
      ]
     },
     "metadata": {
      "needs_background": "light"
     },
     "output_type": "display_data"
    }
   ],
   "source": [
    "show_train_progress(history)"
   ]
  },
  {
   "cell_type": "code",
   "execution_count": null,
   "metadata": {},
   "outputs": [],
   "source": []
  }
 ],
 "metadata": {
  "kernelspec": {
   "display_name": "tf2.4",
   "language": "python",
   "name": "tf2.4"
  },
  "language_info": {
   "codemirror_mode": {
    "name": "ipython",
    "version": 3
   },
   "file_extension": ".py",
   "mimetype": "text/x-python",
   "name": "python",
   "nbconvert_exporter": "python",
   "pygments_lexer": "ipython3",
   "version": "3.7.9"
  }
 },
 "nbformat": 4,
 "nbformat_minor": 4
}

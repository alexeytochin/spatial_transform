{
 "cells": [
  {
   "cell_type": "code",
   "execution_count": 1,
   "metadata": {},
   "outputs": [
    {
     "data": {
      "text/html": [
       "<style>.container { width:98% !important; }</style>"
      ],
      "text/plain": [
       "<IPython.core.display.HTML object>"
      ]
     },
     "metadata": {},
     "output_type": "display_data"
    }
   ],
   "source": [
    "import sys\n",
    "import tensorflow as tf\n",
    "import scipy.io\n",
    "from scipy.io import loadmat\n",
    "import matplotlib.pyplot as plt\n",
    "from skimage.util import montage as montage2d\n",
    "from glob import glob\n",
    "import numpy as np\n",
    "\n",
    "from IPython.core.display import display, HTML\n",
    "display(HTML(\"<style>.container { width:98% !important; }</style>\"))"
   ]
  },
  {
   "cell_type": "code",
   "execution_count": 6,
   "metadata": {},
   "outputs": [],
   "source": [
    "sys.path.append(\"..\")\n",
    "from sln_trail_task.interpolation import BilinearInterpolation\n",
    "from sln_trail_task.convolutional_localization import CoordConvLocalizationLayer, ConvolutionalLocalizationLayer\n",
    "from sln_trail_task.coords import AddCoordFeatures2D\n",
    "from sln_trail_task.data import get_aff_mnist_data\n",
    "from sln_trail_task.spatial_transform import SimpleSpatialTransformBlock\n",
    "from sln_trail_task.visualization import show_train_progress"
   ]
  },
  {
   "cell_type": "code",
   "execution_count": 4,
   "metadata": {},
   "outputs": [],
   "source": [
    "train_img_data, train_img_label, test_img_data, test_img_label = get_aff_mnist_data()"
   ]
  },
  {
   "cell_type": "code",
   "execution_count": 14,
   "metadata": {},
   "outputs": [
    {
     "name": "stdout",
     "output_type": "stream",
     "text": [
      "Model: \"model_8\"\n",
      "_________________________________________________________________\n",
      "Layer (type)                 Output Shape              Param #   \n",
      "=================================================================\n",
      "input_9 (InputLayer)         [(None, 40, 40, 1)]       0         \n",
      "_________________________________________________________________\n",
      "conv2d_16 (Conv2D)           (None, 34, 34, 32)        1600      \n",
      "_________________________________________________________________\n",
      "max_pooling2d_16 (MaxPooling (None, 17, 17, 32)        0         \n",
      "_________________________________________________________________\n",
      "conv2d_17 (Conv2D)           (None, 13, 13, 32)        25632     \n",
      "_________________________________________________________________\n",
      "max_pooling2d_17 (MaxPooling (None, 6, 6, 32)          0         \n",
      "_________________________________________________________________\n",
      "flatten_8 (Flatten)          (None, 1152)              0         \n",
      "_________________________________________________________________\n",
      "dense_24 (Dense)             (None, 60)                69180     \n",
      "_________________________________________________________________\n",
      "dense_25 (Dense)             (None, 32)                1952      \n",
      "_________________________________________________________________\n",
      "dense_26 (Dense)             (None, 10)                330       \n",
      "=================================================================\n",
      "Total params: 98,694\n",
      "Trainable params: 98,694\n",
      "Non-trainable params: 0\n",
      "_________________________________________________________________\n"
     ]
    }
   ],
   "source": [
    "input_shape = (40, 40, 1)\n",
    "image = tf.keras.layers.Input(shape=input_shape)\n",
    "\n",
    "x = image\n",
    "x = tf.keras.layers.Conv2D(32, [7, 7], activation='relu')(x)\n",
    "x = tf.keras.layers.MaxPool2D()(x)\n",
    "x = tf.keras.layers.Conv2D(32, [5, 5], activation='relu')(x)\n",
    "x = tf.keras.layers.MaxPool2D()(x)\n",
    "x = tf.keras.layers.Flatten()(x)\n",
    "x = tf.keras.layers.Dense(60, activation='relu')(x)\n",
    "x = tf.keras.layers.Dense(32, activation='relu')(x)\n",
    "x = tf.keras.layers.Dense(10, activation=None)(x)\n",
    "\n",
    "model = tf.keras.models.Model(inputs=image, outputs=x)\n",
    "model.summary()"
   ]
  },
  {
   "cell_type": "code",
   "execution_count": 16,
   "metadata": {},
   "outputs": [],
   "source": [
    "model.compile(\n",
    "    optimizer = tf.keras.optimizers.Adam(learning_rate=1e-4),\n",
    "    loss = tf.keras.losses.SparseCategoricalCrossentropy(from_logits=True),\n",
    "    metrics = ['accuracy']\n",
    ")"
   ]
  },
  {
   "cell_type": "code",
   "execution_count": 17,
   "metadata": {},
   "outputs": [
    {
     "name": "stdout",
     "output_type": "stream",
     "text": [
      "Epoch 1/3\n",
      "12500/12500 [==============================] - 84s 7ms/step - loss: 1.0270 - accuracy: 0.6910 - val_loss: 0.1336 - val_accuracy: 0.9582\n",
      "Epoch 2/3\n",
      "12500/12500 [==============================] - 81s 6ms/step - loss: 0.1212 - accuracy: 0.9627 - val_loss: 0.0843 - val_accuracy: 0.9741\n",
      "Epoch 3/3\n",
      "12500/12500 [==============================] - 83s 7ms/step - loss: 0.0824 - accuracy: 0.9743 - val_loss: 0.0714 - val_accuracy: 0.9778\n"
     ]
    }
   ],
   "source": [
    "history = model.fit(\n",
    "    x = train_img_data, \n",
    "    y = train_img_label, \n",
    "    batch_size = 128,\n",
    "    epochs = 3,\n",
    "    validation_data = (test_img_data,  test_img_label),\n",
    "    validation_batch_size = 1024,\n",
    ")"
   ]
  },
  {
   "cell_type": "code",
   "execution_count": 21,
   "metadata": {},
   "outputs": [
    {
     "data": {
      "image/png": "[encoded data removed]",
      "text/plain": [
       "<Figure size 432x288 with 1 Axes>"
      ]
     },
     "metadata": {
      "needs_background": "light"
     },
     "output_type": "display_data"
    },
    {
     "data": {
      "image/png": "[encoded data removed]",
      "text/plain": [
       "<Figure size 432x288 with 1 Axes>"
      ]
     },
     "metadata": {
      "needs_background": "light"
     },
     "output_type": "display_data"
    }
   ],
   "source": [
    "show_train_progress(history)"
   ]
  },
  {
   "cell_type": "code",
   "execution_count": null,
   "metadata": {},
   "outputs": [],
   "source": []
  }
 ],
 "metadata": {
  "kernelspec": {
   "display_name": "tf2.4",
   "language": "python",
   "name": "tf2.4"
  },
  "language_info": {
   "codemirror_mode": {
    "name": "ipython",
    "version": 3
   },
   "file_extension": ".py",
   "mimetype": "text/x-python",
   "name": "python",
   "nbconvert_exporter": "python",
   "pygments_lexer": "ipython3",
   "version": "3.7.9"
  }
 },
 "nbformat": 4,
 "nbformat_minor": 4
}
